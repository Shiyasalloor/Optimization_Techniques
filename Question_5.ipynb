{
  "nbformat": 4,
  "nbformat_minor": 0,
  "metadata": {
    "colab": {
      "provenance": [],
      "authorship_tag": "ABX9TyN7uwRWzAUhF2u1Rode2Zv/",
      "include_colab_link": true
    },
    "kernelspec": {
      "name": "python3",
      "display_name": "Python 3"
    },
    "language_info": {
      "name": "python"
    }
  },
  "cells": [
    {
      "cell_type": "markdown",
      "metadata": {
        "id": "view-in-github",
        "colab_type": "text"
      },
      "source": [
        "<a href=\"https://colab.research.google.com/github/Shiyasalloor/Optimization_Techniques/blob/main/Question_5.ipynb\" target=\"_parent\"><img src=\"https://colab.research.google.com/assets/colab-badge.svg\" alt=\"Open In Colab\"/></a>"
      ]
    },
    {
      "cell_type": "markdown",
      "source": [
        "A bakery sells two types of cakes, chocolate and vanilla. The bakery has a daily budget of 500 dollars and can produce at most 400 cakes per day. Each chocolate cake costs 2 dollars to make and sells for 5 dollars, while each vanilla cake costs 1 dollar to make and sells for 3 dollars. The bakery also has to satisfy the demand of at least 100 chocolate cakes and at least 50 vanilla cakes per day. How many cakes of each type should the bakery make to maximize its revenue? What is the maximum revenue? Implement using linear programming package"
      ],
      "metadata": {
        "id": "0GfFzyB2ImdM"
      }
    },
    {
      "cell_type": "code",
      "source": [
        "!pip install pulp"
      ],
      "metadata": {
        "colab": {
          "base_uri": "https://localhost:8080/"
        },
        "id": "RmNnm0RjJIEF",
        "outputId": "5d302b92-aa47-4f80-8c94-5fb5109c8d64"
      },
      "execution_count": 2,
      "outputs": [
        {
          "output_type": "stream",
          "name": "stdout",
          "text": [
            "Collecting pulp\n",
            "  Downloading PuLP-2.8.0-py3-none-any.whl (17.7 MB)\n",
            "\u001b[2K     \u001b[90m━━━━━━━━━━━━━━━━━━━━━━━━━━━━━━━━━━━━━━━━\u001b[0m \u001b[32m17.7/17.7 MB\u001b[0m \u001b[31m26.9 MB/s\u001b[0m eta \u001b[36m0:00:00\u001b[0m\n",
            "\u001b[?25hInstalling collected packages: pulp\n",
            "Successfully installed pulp-2.8.0\n"
          ]
        }
      ]
    },
    {
      "cell_type": "code",
      "execution_count": 3,
      "metadata": {
        "colab": {
          "base_uri": "https://localhost:8080/"
        },
        "id": "OJukOwkoIk6G",
        "outputId": "110c32a3-fdd2-4138-c128-6346fe0da027"
      },
      "outputs": [
        {
          "output_type": "stream",
          "name": "stdout",
          "text": [
            "Number of chocolate cakes to make: 100.0\n",
            "Number of vanilla cakes to make: 300.0\n",
            "Maximum revenue: $1400.0\n"
          ]
        }
      ],
      "source": [
        "from pulp import LpProblem, LpVariable, LpMaximize\n",
        "\n",
        "model = LpProblem(name=\"Maximize_Revenue\", sense=LpMaximize)\n",
        "\n",
        "x = LpVariable(name=\"chocolate_cakes\", lowBound=100, cat=\"Continuous\")\n",
        "y = LpVariable(name=\"vanilla_cakes\", lowBound=50, cat=\"Continuous\")\n",
        "\n",
        "model += 5 * x + 3 * y, \"Revenue\"\n",
        "\n",
        "model += 2 * x + y <= 500, \"Budget_constraint\"\n",
        "model += x + y <= 400, \"Production_constraint\"\n",
        "\n",
        "model.solve()\n",
        "\n",
        "chocolate_cakes = x.value()\n",
        "vanilla_cakes = y.value()\n",
        "max_revenue = 5 * chocolate_cakes + 3 * vanilla_cakes\n",
        "\n",
        "print(f\"Number of chocolate cakes to make: {chocolate_cakes}\")\n",
        "print(f\"Number of vanilla cakes to make: {vanilla_cakes}\")\n",
        "print(f\"Maximum revenue: ${max_revenue}\")\n"
      ]
    }
  ]
}