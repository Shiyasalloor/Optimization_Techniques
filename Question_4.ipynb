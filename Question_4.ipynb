{
  "nbformat": 4,
  "nbformat_minor": 0,
  "metadata": {
    "colab": {
      "provenance": [],
      "authorship_tag": "ABX9TyO5x2xMYaXnGSgSmD5fbKKa",
      "include_colab_link": true
    },
    "kernelspec": {
      "name": "python3",
      "display_name": "Python 3"
    },
    "language_info": {
      "name": "python"
    }
  },
  "cells": [
    {
      "cell_type": "markdown",
      "metadata": {
        "id": "view-in-github",
        "colab_type": "text"
      },
      "source": [
        "<a href=\"https://colab.research.google.com/github/Shiyasalloor/Optimization_Techniques/blob/main/Question_4.ipynb\" target=\"_parent\"><img src=\"https://colab.research.google.com/assets/colab-badge.svg\" alt=\"Open In Colab\"/></a>"
      ]
    },
    {
      "cell_type": "markdown",
      "source": [
        "A farmer has a field of 60 acres in which he plants two crops, wheat and barley. The farmer has to plant at least 20 acres of wheat and at least 10 acres of barley. He has 1200 pounds of fertilizer and 600 pounds of insecticide available. Each acre of wheat requires 20 pounds of fertilizer and 10 pounds of insecticide, while each acre of barley requires 10 pounds of fertilizer and 15 pounds of insecticide. The profit from an acre of wheat is 200 dollars, and the profit from an acre of barley is 150 dollars. How many acres of each crop should the farmer plant to maximize his profit? What is the maximum profit? Implement using linear programming package"
      ],
      "metadata": {
        "id": "tFqBDJuJIVKb"
      }
    },
    {
      "cell_type": "code",
      "source": [
        "!pip install pulp"
      ],
      "metadata": {
        "colab": {
          "base_uri": "https://localhost:8080/"
        },
        "id": "HRgQHgXzJgQl",
        "outputId": "04801e0f-1e3d-48fd-9ad1-e2ff60ac66a9"
      },
      "execution_count": 1,
      "outputs": [
        {
          "output_type": "stream",
          "name": "stdout",
          "text": [
            "Collecting pulp\n",
            "  Downloading PuLP-2.8.0-py3-none-any.whl (17.7 MB)\n",
            "\u001b[2K     \u001b[90m━━━━━━━━━━━━━━━━━━━━━━━━━━━━━━━━━━━━━━━━\u001b[0m \u001b[32m17.7/17.7 MB\u001b[0m \u001b[31m46.5 MB/s\u001b[0m eta \u001b[36m0:00:00\u001b[0m\n",
            "\u001b[?25hInstalling collected packages: pulp\n",
            "Successfully installed pulp-2.8.0\n"
          ]
        }
      ]
    },
    {
      "cell_type": "code",
      "execution_count": 2,
      "metadata": {
        "colab": {
          "base_uri": "https://localhost:8080/"
        },
        "id": "HQLIgvybH2Sc",
        "outputId": "4b112cb6-0a8c-45ec-dee7-969a6934203c"
      },
      "outputs": [
        {
          "output_type": "stream",
          "name": "stdout",
          "text": [
            "Number of acres of wheat to plant: 45.0\n",
            "Number of acres of barley to plant: 10.0\n",
            "Maximum profit: $10500.0\n"
          ]
        }
      ],
      "source": [
        "from pulp import LpProblem, LpVariable, LpMaximize\n",
        "\n",
        "model = LpProblem(name=\"Maximize_Profit\", sense=LpMaximize)\n",
        "\n",
        "x = LpVariable(name=\"wheat_acres\", lowBound=20, cat=\"Continuous\")\n",
        "y = LpVariable(name=\"barley_acres\", lowBound=10, cat=\"Continuous\")\n",
        "\n",
        "model += 200 * x + 150 * y, \"Profit\"\n",
        "\n",
        "model += 20 * x + 10 * y <= 1200, \"Fertilizer_constraint\"\n",
        "model += 10 * x + 15 * y <= 600, \"Insecticide_constraint\"\n",
        "model.solve()\n",
        "\n",
        "acres_wheat = x.value()\n",
        "acres_barley = y.value()\n",
        "max_profit = 200 * acres_wheat + 150 * acres_barley\n",
        "\n",
        "print(f\"Number of acres of wheat to plant: {acres_wheat}\")\n",
        "print(f\"Number of acres of barley to plant: {acres_barley}\")\n",
        "print(f\"Maximum profit: ${max_profit}\")\n"
      ]
    }
  ]
}