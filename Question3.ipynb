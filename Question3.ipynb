{
  "nbformat": 4,
  "nbformat_minor": 0,
  "metadata": {
    "colab": {
      "provenance": [],
      "authorship_tag": "ABX9TyME25TpPdVOuS0nhfSre/c+",
      "include_colab_link": true
    },
    "kernelspec": {
      "name": "python3",
      "display_name": "Python 3"
    },
    "language_info": {
      "name": "python"
    }
  },
  "cells": [
    {
      "cell_type": "markdown",
      "metadata": {
        "id": "view-in-github",
        "colab_type": "text"
      },
      "source": [
        "<a href=\"https://colab.research.google.com/github/Shiyasalloor/Optimization_Techniques/blob/main/Question3.ipynb\" target=\"_parent\"><img src=\"https://colab.research.google.com/assets/colab-badge.svg\" alt=\"Open In Colab\"/></a>"
      ]
    },
    {
      "cell_type": "markdown",
      "source": [
        "# A furniture company produces chairs and tables from two resources, wood and metal. The company has 125 units of wood and 80 units of metal available. Each chair requires 1 unit of wood and 3 units of metal, while each table requires 5 units of wood and 1 unit of metal. The profit from selling a chair is 20 dollars, and the profit from selling a table is 30 dollars. How many chairs and tables should the company produce to maximize its profit? What is the maximum profit? Implement using linear programming package"
      ],
      "metadata": {
        "id": "PPbJ4guSAi_J"
      }
    },
    {
      "cell_type": "code",
      "source": [
        "!pip install pulp\n"
      ],
      "metadata": {
        "colab": {
          "base_uri": "https://localhost:8080/"
        },
        "id": "g6qg6hCbAYWy",
        "outputId": "9cba072d-f7a9-493d-b688-9ce97394fa57"
      },
      "execution_count": null,
      "outputs": [
        {
          "output_type": "stream",
          "name": "stdout",
          "text": [
            "Collecting pulp\n",
            "  Downloading PuLP-2.8.0-py3-none-any.whl (17.7 MB)\n",
            "\u001b[2K     \u001b[90m━━━━━━━━━━━━━━━━━━━━━━━━━━━━━━━━━━━━━━━━\u001b[0m \u001b[32m17.7/17.7 MB\u001b[0m \u001b[31m72.7 MB/s\u001b[0m eta \u001b[36m0:00:00\u001b[0m\n",
            "\u001b[?25hInstalling collected packages: pulp\n",
            "Successfully installed pulp-2.8.0\n"
          ]
        }
      ]
    },
    {
      "cell_type": "code",
      "execution_count": null,
      "metadata": {
        "colab": {
          "base_uri": "https://localhost:8080/"
        },
        "id": "h9LOljKk-W_K",
        "outputId": "3f699cca-36f1-47c5-f0b5-10b1c712fb7e"
      },
      "outputs": [
        {
          "output_type": "stream",
          "name": "stdout",
          "text": [
            "Number of chairs to produce: 19\n",
            "Number of tables to produce: 21\n",
            "Maximum profit: $1010\n"
          ]
        }
      ],
      "source": [
        "from pulp import LpProblem, LpVariable, lpSum, LpMaximize\n",
        "\n",
        "model = LpProblem(name=\"Maximize_Profit\", sense=LpMaximize)\n",
        "\n",
        "x = LpVariable(name=\"chairs\", lowBound=0, cat=\"Integer\")\n",
        "y = LpVariable(name=\"tables\", lowBound=0, cat=\"Integer\")\n",
        "\n",
        "model += 20 * x + 30 * y, \"Profit\"\n",
        "\n",
        "model += x + 5 * y <= 125, \"Wood_constraint\"\n",
        "model += 3 * x + y <= 80, \"Metal_constraint\"\n",
        "\n",
        "model.solve()\n",
        "\n",
        "num_chairs = int(x.value())\n",
        "num_tables = int(y.value())\n",
        "max_profit = 20 * num_chairs + 30 * num_tables\n",
        "\n",
        "print(f\"Number of chairs to produce: {num_chairs}\")\n",
        "print(f\"Number of tables to produce: {num_tables}\")\n",
        "print(f\"Maximum profit: ${max_profit}\")\n"
      ]
    }
  ]
}